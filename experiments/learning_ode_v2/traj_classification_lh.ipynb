{
 "cells": [
  {
   "cell_type": "code",
   "execution_count": 37,
   "metadata": {},
   "outputs": [],
   "source": [
    "import sys\n",
    "from pathlib import Path\n",
    "import yaml\n",
    "from tqdm import tqdm\n",
    "\n",
    "import numpy as np\n",
    "from matplotlib import pyplot as plt\n",
    "import torch\n",
    "from torch import nn\n",
    "from torch.nn import functional as F\n",
    "from torchdyn.core import NeuralODE\n",
    "from torch.utils.data import Dataset, DataLoader\n",
    "\n",
    "import warnings\n",
    "warnings.simplefilter(\"ignore\", FutureWarning)\n",
    "\n",
    "from field_model import *\n",
    "from model_distances import vectorize_model_params"
   ]
  },
  {
   "cell_type": "code",
   "execution_count": 38,
   "metadata": {},
   "outputs": [],
   "source": [
    "# load config files for data and pipeline\n",
    "with open(\"config.yaml\", \"r\") as f1:\n",
    "    config = yaml.full_load(f1)\n",
    "\n",
    "with open(\"../../data/dataset_params.yaml\") as f2:\n",
    "    data_params = yaml.full_load(f2)\n",
    "\n",
    "device = torch.device(config[\"device\"])\n",
    "\n",
    "# dir with trajectories Datasets\n",
    "traj_dir = Path(\"trajectories/\")\n",
    "if not traj_dir.exists():\n",
    "    raise FileNotFoundError(\"No Datasets created.\")\n",
    "\n",
    "# ode models\n",
    "models_dir = Path(\"models/\")\n",
    "if not models_dir.exists():\n",
    "    raise FileNotFoundError(\"No models created.\")"
   ]
  },
  {
   "cell_type": "code",
   "execution_count": null,
   "metadata": {},
   "outputs": [],
   "source": [
    "num_activities = len(data_params[\"activity_codes\"])\n",
    "\n",
    "distr_dict = {}\n",
    "test_dict = {}"
   ]
  },
  {
   "cell_type": "code",
   "execution_count": null,
   "metadata": {},
   "outputs": [],
   "source": [
    "for activity in data_params[\"activity_codes\"]:\n",
    "    distr_dict[activity] = []\n",
    "\n",
    "    for state_dict_file in models_dir.glob(f\"{activity}*\"):\n",
    "        # load model\n",
    "        vector_field = eval(config[\"model_cls\"])(config[\"trajectory_dim\"], **config[\"model_params\"])\n",
    "        ode_model = NeuralODE(vector_field, solver='rk4').to(device)\n",
    "        ode_model.load_state_dict(torch.load(state_dict_file))\n",
    "\n",
    "        # save model params\n",
    "        distr_dict[activity].append(\n",
    "            vectorize_model_params(ode_model)\n",
    "        )\n",
    "\n",
    "    distr_dict[activity] = torch.stack(distr_dict[activity])\n",
    "\n",
    "    # train/test split\n",
    "    num_train_params = int(len(distr_dict[activity]) * (1 - config[\"test_ratio\"]))\n",
    "    test_dict[activity] = distr_dict[activity][num_train_params:]\n",
    "    distr_dict[activity] = distr_dict[activity][:num_train_params]"
   ]
  },
  {
   "cell_type": "code",
   "execution_count": 41,
   "metadata": {},
   "outputs": [
    {
     "data": {
      "text/plain": [
       "device(type='cuda', index=0)"
      ]
     },
     "execution_count": 41,
     "metadata": {},
     "output_type": "execute_result"
    }
   ],
   "source": [
    "distr_dict[\"jog\"].device"
   ]
  },
  {
   "cell_type": "code",
   "execution_count": 42,
   "metadata": {},
   "outputs": [],
   "source": [
    "# build distributions\n",
    "for activity in data_params[\"activity_codes\"]:\n",
    "    activity_param_mean = distr_dict[activity].mean(dim=0)\n",
    "    activity_param_cov = torch.cov(distr_dict[activity].T)\n",
    "\n",
    "    activity_param_cov += torch.diag(1e-7 * torch.ones(activity_param_cov.shape[0])).to(activity_param_cov.device)\n",
    "\n",
    "    distr_dict[activity] = torch.distributions.MultivariateNormal(\n",
    "        activity_param_mean,\n",
    "        activity_param_cov,\n",
    "        validate_args=True\n",
    "    )"
   ]
  },
  {
   "cell_type": "code",
   "execution_count": 47,
   "metadata": {},
   "outputs": [
    {
     "name": "stdout",
     "output_type": "stream",
     "text": [
      "Classifing dws\n"
     ]
    },
    {
     "name": "stdout",
     "output_type": "stream",
     "text": [
      "Accuracy = 0.5333333611488342\n",
      "Classifing ups\n",
      "Accuracy = 0.20000001788139343\n",
      "Classifing wlk\n",
      "Accuracy = 0.40000003576278687\n",
      "Classifing jog\n",
      "Accuracy = 0.0\n",
      "Classifing std\n",
      "Accuracy = 0.0\n",
      "Classifing sit\n",
      "Accuracy = 0.0\n"
     ]
    }
   ],
   "source": [
    "# classify test models\n",
    "for activity_ind, activity in enumerate(data_params[\"activity_codes\"]):\n",
    "    print(f\"Classifing {activity}\")\n",
    "\n",
    "    test_params = test_dict[activity]\n",
    "    probs = {}\n",
    "    for activity in data_params[\"activity_codes\"]:\n",
    "        probs[activity] = distr_dict[activity].log_prob(test_params)\n",
    "\n",
    "    all_probs = torch.stack(list(probs.values()))\n",
    "    prediction = all_probs.argmax(dim=0)\n",
    "\n",
    "    print(f\"Accuracy = {(prediction == activity_ind).float().mean()}\")"
   ]
  },
  {
   "cell_type": "markdown",
   "metadata": {},
   "source": [
    "При дебаге увидел, что log_prob для всех тестовых примеров очень низкий"
   ]
  },
  {
   "cell_type": "code",
   "execution_count": 44,
   "metadata": {},
   "outputs": [
    {
     "name": "stdout",
     "output_type": "stream",
     "text": [
      "[[0.00000000e+00 1.14895720e+08 1.14525344e+08 1.21190912e+08\n",
      "  1.22428672e+08 1.22297752e+08]\n",
      " [1.13405432e+08 0.00000000e+00 1.13048904e+08 1.19882512e+08\n",
      "  1.20916200e+08 1.20361440e+08]\n",
      " [1.13850416e+08 1.13848616e+08 0.00000000e+00 1.21052360e+08\n",
      "  1.22317088e+08 1.21850592e+08]\n",
      " [1.13761160e+08 1.14291192e+08 1.14405760e+08 0.00000000e+00\n",
      "  1.22536328e+08 1.22320400e+08]\n",
      " [1.14093248e+08 1.14092624e+08 1.14860944e+08 1.21573376e+08\n",
      "  0.00000000e+00 1.22143696e+08]\n",
      " [1.13377200e+08 1.13851656e+08 1.13880448e+08 1.20613840e+08\n",
      "  1.22202376e+08 0.00000000e+00]]\n"
     ]
    },
    {
     "name": "stderr",
     "output_type": "stream",
     "text": [
      "/tmp/ipykernel_138876/2971662575.py:15: RuntimeWarning: divide by zero encountered in log\n",
      "  np.log(pairwise_kl)\n"
     ]
    },
    {
     "data": {
      "text/plain": [
       "<matplotlib.colorbar.Colorbar at 0x707d8a9b3e00>"
      ]
     },
     "execution_count": 44,
     "metadata": {},
     "output_type": "execute_result"
    },
    {
     "data": {
      "image/png": "[encoded data removed]",
      "text/plain": [
       "<Figure size 640x480 with 2 Axes>"
      ]
     },
     "metadata": {},
     "output_type": "display_data"
    }
   ],
   "source": [
    "# vizualize kl between distributions\n",
    "pairwise_kl = np.empty((num_activities, num_activities))\n",
    "\n",
    "for i, activity_i in enumerate(data_params[\"activity_codes\"]):\n",
    "    for j, activity_j in enumerate(data_params[\"activity_codes\"]):\n",
    "        pairwise_kl[i][j] = torch.distributions.kl.kl_divergence(\n",
    "            distr_dict[activity_i],\n",
    "            distr_dict[activity_j]\n",
    "        ).item()\n",
    "\n",
    "print(pairwise_kl)\n",
    "\n",
    "fig, ax = plt.subplots()\n",
    "mat_pic = ax.matshow(\n",
    "    np.log(pairwise_kl)\n",
    ")\n",
    "\n",
    "labels = list(data_params[\"activity_codes\"].keys())\n",
    "ax.set_xticks(np.arange(len(labels)), labels)\n",
    "ax.set_yticks(np.arange(len(labels)), labels)\n",
    "ax.set_title(\"Activities log KL\")\n",
    "fig.colorbar(mat_pic, ax=ax)\n",
    "# fig.savefig(\"pairwise_kl.png\")"
   ]
  }
 ],
 "metadata": {
  "kernelspec": {
   "display_name": "src-zMib2lzO-py3.12",
   "language": "python",
   "name": "python3"
  },
  "language_info": {
   "codemirror_mode": {
    "name": "ipython",
    "version": 3
   },
   "file_extension": ".py",
   "mimetype": "text/x-python",
   "name": "python",
   "nbconvert_exporter": "python",
   "pygments_lexer": "ipython3",
   "version": "3.12.3"
  }
 },
 "nbformat": 4,
 "nbformat_minor": 2
}
