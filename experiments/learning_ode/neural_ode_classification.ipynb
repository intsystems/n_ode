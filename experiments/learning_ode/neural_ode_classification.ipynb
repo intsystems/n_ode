{
 "cells": [
  {
   "cell_type": "code",
   "execution_count": 6,
   "metadata": {},
   "outputs": [],
   "source": [
    "from pathlib import Path\n",
    "import yaml\n",
    "\n",
    "import torch\n",
    "from torch import nn\n",
    "from torch.nn import functional as F\n",
    "from torchdyn.core import NeuralODE\n",
    "from torch.utils.data import Dataset, DataLoader\n",
    "from torch.utils.tensorboard import SummaryWriter\n",
    "\n",
    "from matplotlib import pyplot as plt\n",
    "\n",
    "from field_model import VectorField\n",
    "\n",
    "from torch.func import functional_call, hessian, jacfwd, jacrev, vmap"
   ]
  },
  {
   "cell_type": "code",
   "execution_count": 7,
   "metadata": {},
   "outputs": [
    {
     "name": "stderr",
     "output_type": "stream",
     "text": [
      "/tmp/ipykernel_33214/1632418470.py:11: FutureWarning: You are using `torch.load` with `weights_only=False` (the current default value), which uses the default pickle module implicitly. It is possible to construct malicious pickle data which will execute arbitrary code during unpickling (See https://github.com/pytorch/pytorch/blob/main/SECURITY.md#untrusted-models for more details). In a future release, the default value for `weights_only` will be flipped to `True`. This limits the functions that could be executed during unpickling. Arbitrary objects will no longer be allowed to be loaded via this mode unless they are explicitly allowlisted by the user via `torch.serialization.add_safe_globals`. We recommend you start setting `weights_only=True` for any use case where you don't have full control of the loaded file. Please open an issue on GitHub for any issues related to this experimental feature.\n",
      "  torch.load(traj_dir / f\"jog_train.pt\"),\n"
     ]
    }
   ],
   "source": [
    "# load config files for data and pipeline\n",
    "with open(\"config.yaml\", \"r\") as f1:\n",
    "    config = yaml.full_load(f1)\n",
    "\n",
    "# dir with trajectories Datasets\n",
    "traj_dir = Path(\"trajectories/\")\n",
    "if not traj_dir.exists():\n",
    "    raise FileNotFoundError(\"No Dataset created for given activity.\")\n",
    "# make dataloaders\n",
    "train_loader = DataLoader(\n",
    "    torch.load(traj_dir / f\"jog_train.pt\"),\n",
    "    config[\"batch_size\"],\n",
    "    shuffle=True\n",
    ")"
   ]
  },
  {
   "cell_type": "code",
   "execution_count": 8,
   "metadata": {},
   "outputs": [],
   "source": [
    "batch = next(iter(train_loader))\n",
    "traj: torch.Tensor = batch[0]\n",
    "durations: torch.Tensor = batch[1]\n",
    "\n",
    "traj_len = traj.shape[1]\n",
    "t_span = torch.arange(0, traj_len)"
   ]
  },
  {
   "cell_type": "code",
   "execution_count": 9,
   "metadata": {},
   "outputs": [
    {
     "name": "stdout",
     "output_type": "stream",
     "text": [
      "Your vector field callable (nn.Module) should have both time `t` and state `x` as arguments, we've wrapped it for you.\n"
     ]
    }
   ],
   "source": [
    "# create model\n",
    "vector_field: nn.Module = VectorField(config[\"trajectory_dim\"], config[\"hidden_dim\"])\n",
    "ode_model = NeuralODE(vector_field, solver='rk4')"
   ]
  },
  {
   "cell_type": "code",
   "execution_count": 10,
   "metadata": {},
   "outputs": [],
   "source": [
    "# dict(ode_model.named_parameters())"
   ]
  },
  {
   "cell_type": "code",
   "execution_count": null,
   "metadata": {},
   "outputs": [],
   "source": [
    "def f(params, x):\n",
    "    t_eval, traj_predict = functional_call(ode_model, params, (x[:, 0, :], t_span))\n",
    "    # move batch axis in front\n",
    "    traj_predict = traj_predict.movedim(1, 0)\n",
    "\n",
    "    # average loss among all phase vectors\n",
    "    loss = F.mse_loss(x.flatten(end_dim=-2)[:1], (traj_predict).flatten(end_dim=-2)[:1])\n",
    "    return loss\n",
    "\n",
    "hess = hessian(f)(dict(ode_model.named_parameters()), traj)"
   ]
  },
  {
   "cell_type": "code",
   "execution_count": 7,
   "metadata": {},
   "outputs": [
    {
     "name": "stdout",
     "output_type": "stream",
     "text": [
      "torch.Size([20, 20, 20, 20])\n",
      "torch.Size([20, 20, 20])\n",
      "torch.Size([20, 20, 20, 20])\n",
      "torch.Size([20, 20, 20])\n"
     ]
    }
   ],
   "source": [
    "for h in hess:\n",
    "    print(h[0].shape)"
   ]
  },
  {
   "cell_type": "code",
   "execution_count": 11,
   "metadata": {},
   "outputs": [
    {
     "data": {
      "text/plain": [
       "torch.Size([840, 840])"
      ]
     },
     "execution_count": 11,
     "metadata": {},
     "output_type": "execute_result"
    }
   ],
   "source": [
    "params = list(vector_field.parameters())\n",
    "hess_full = []\n",
    "for i in range(len(hess)):\n",
    "    param_num_dims = len(params[i].shape)\n",
    "    hess_i = []\n",
    "\n",
    "    for j in range(len(hess[0])):\n",
    "        cur_hes: torch.Tensor = hess[i][j]\n",
    "        cur_hes = cur_hes.flatten(start_dim=param_num_dims)\n",
    "        hess_i.append(cur_hes)\n",
    "\n",
    "    hess_i = torch.concat(hess_i, dim=-1)\n",
    "    hess_i = hess_i.flatten(end_dim=param_num_dims - 1)\n",
    "    hess_full.append(hess_i)\n",
    "\n",
    "hess_full = torch.vstack(hess_full)\n",
    "hess_full.shape"
   ]
  },
  {
   "cell_type": "code",
   "execution_count": 13,
   "metadata": {},
   "outputs": [
    {
     "data": {
      "text/plain": [
       "<matplotlib.image.AxesImage at 0x7eb9ca901ca0>"
      ]
     },
     "execution_count": 13,
     "metadata": {},
     "output_type": "execute_result"
    },
    {
     "data": {
      "image/png": "[encoded data removed]",
      "text/plain": [
       "<Figure size 480x480 with 1 Axes>"
      ]
     },
     "metadata": {},
     "output_type": "display_data"
    }
   ],
   "source": [
    "plt.matshow(hess_full.numpy())"
   ]
  }
 ],
 "metadata": {
  "kernelspec": {
   "display_name": "src-zMib2lzO-py3.12",
   "language": "python",
   "name": "python3"
  },
  "language_info": {
   "codemirror_mode": {
    "name": "ipython",
    "version": 3
   },
   "file_extension": ".py",
   "mimetype": "text/x-python",
   "name": "python",
   "nbconvert_exporter": "python",
   "pygments_lexer": "ipython3",
   "version": "3.12.3"
  }
 },
 "nbformat": 4,
 "nbformat_minor": 2
}
