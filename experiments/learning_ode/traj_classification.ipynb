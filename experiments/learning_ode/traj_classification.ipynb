{
 "cells": [
  {
   "cell_type": "code",
   "execution_count": 1,
   "metadata": {},
   "outputs": [],
   "source": [
    "import sys\n",
    "from pathlib import Path\n",
    "import yaml\n",
    "from tqdm import tqdm\n",
    "\n",
    "import numpy as np\n",
    "import torch\n",
    "from torch import nn\n",
    "from torch.nn import functional as F\n",
    "from torchdyn.core import NeuralODE\n",
    "from torch.utils.data import Dataset, DataLoader\n",
    "\n",
    "import warnings\n",
    "warnings.simplefilter(\"ignore\", FutureWarning)\n",
    "\n",
    "from field_model import *"
   ]
  },
  {
   "cell_type": "code",
   "execution_count": 2,
   "metadata": {},
   "outputs": [],
   "source": [
    "# load config files for data and pipeline\n",
    "with open(\"config.yaml\", \"r\") as f1:\n",
    "    config = yaml.full_load(f1)\n",
    "\n",
    "with open(\"../../data/dataset_params.yaml\") as f2:\n",
    "    data_params = yaml.full_load(f2)\n",
    "\n",
    "device = torch.device(config[\"device\"])\n",
    "\n",
    "# dir with trajectories Datasets\n",
    "traj_dir = Path(\"trajectories/\")\n",
    "if not traj_dir.exists():\n",
    "    raise FileNotFoundError(\"No Dataset created for given activity.\")\n",
    "\n",
    "# ode models\n",
    "models_dir = Path(\"models/\")"
   ]
  },
  {
   "cell_type": "code",
   "execution_count": 3,
   "metadata": {},
   "outputs": [
    {
     "name": "stdout",
     "output_type": "stream",
     "text": [
      "Your vector field callable (nn.Module) should have both time `t` and state `x` as arguments, we've wrapped it for you.\n",
      "Your vector field callable (nn.Module) should have both time `t` and state `x` as arguments, we've wrapped it for you.\n",
      "Your vector field callable (nn.Module) should have both time `t` and state `x` as arguments, we've wrapped it for you.\n"
     ]
    }
   ],
   "source": [
    "# compute mean and diag log std of the ML estimators\n",
    "models = {}\n",
    "for model_file in models_dir.glob(\"*\"):\n",
    "    activity = model_file.stem\n",
    "\n",
    "    vector_field = VectorFieldMLP(\n",
    "        config[\"trajectory_dim\"], config[\"hidden_dim\"])\n",
    "    ode_model = NeuralODE(vector_field, solver='rk4').to(device)\n",
    "    ode_model.load_state_dict(\n",
    "        torch.load(model_file)\n",
    "    )\n",
    "\n",
    "    models[activity] = ode_model"
   ]
  },
  {
   "cell_type": "code",
   "execution_count": 4,
   "metadata": {},
   "outputs": [],
   "source": [
    "def get_trajectory_mask(durations: torch.Tensor, traj: torch.Tensor) -> torch.Tensor:\n",
    "    mask = torch.ones_like(traj).to(traj.device)\n",
    "    for i in range(mask.shape[0]):\n",
    "        # mask out padding vectors in trajectory\n",
    "        mask[i, durations[i]: , ...] = 0.\n",
    "\n",
    "    return mask"
   ]
  },
  {
   "cell_type": "code",
   "execution_count": 5,
   "metadata": {},
   "outputs": [
    {
     "name": "stdout",
     "output_type": "stream",
     "text": [
      "Classifying jog label\n"
     ]
    },
    {
     "name": "stderr",
     "output_type": "stream",
     "text": [
      "Testing jog model: 100%|██████████| 10/10 [00:01<00:00,  5.55it/s]\n",
      "Testing wlk model: 100%|██████████| 10/10 [00:01<00:00,  6.38it/s]\n",
      "Testing std model: 100%|██████████| 10/10 [00:01<00:00,  6.85it/s]\n"
     ]
    },
    {
     "name": "stdout",
     "output_type": "stream",
     "text": [
      "{'jog': 2183.417251586914, 'wlk': 4718.659515380859, 'std': 5431.085754394531}\n",
      "Best model for true jog is jog model.\n",
      "Classifying wlk label\n"
     ]
    },
    {
     "name": "stderr",
     "output_type": "stream",
     "text": [
      "Testing jog model: 100%|██████████| 21/21 [00:03<00:00,  6.77it/s]\n",
      "Testing wlk model: 100%|██████████| 21/21 [00:03<00:00,  6.59it/s]\n",
      "Testing std model: 100%|██████████| 21/21 [00:03<00:00,  6.27it/s]\n"
     ]
    },
    {
     "name": "stdout",
     "output_type": "stream",
     "text": [
      "{'jog': 4643.857955932617, 'wlk': 9451.685760498047, 'std': 11588.019104003906}\n",
      "Best model for true wlk is jog model.\n",
      "Classifying std label\n"
     ]
    },
    {
     "name": "stderr",
     "output_type": "stream",
     "text": [
      "Testing jog model: 100%|██████████| 26/26 [00:03<00:00,  6.92it/s]\n",
      "Testing wlk model: 100%|██████████| 26/26 [00:04<00:00,  6.17it/s]\n",
      "Testing std model: 100%|██████████| 26/26 [00:03<00:00,  6.73it/s]"
     ]
    },
    {
     "name": "stdout",
     "output_type": "stream",
     "text": [
      "{'jog': 5119.088897705078, 'wlk': 10657.29898071289, 'std': 13499.962371826172}\n",
      "Best model for true std is jog model.\n"
     ]
    },
    {
     "name": "stderr",
     "output_type": "stream",
     "text": [
      "\n"
     ]
    }
   ],
   "source": [
    "# classify test trajectories using ML principle\n",
    "for model_file in models_dir.glob(\"*\"):\n",
    "    activity = model_file.stem\n",
    "\n",
    "    print(f\"Classifying {activity} label\")\n",
    "\n",
    "    test_loader = DataLoader(\n",
    "        torch.load(traj_dir / f\"{activity}_test.pt\"),\n",
    "        config[\"batch_size\"],\n",
    "        shuffle=False\n",
    "    )\n",
    "    model_loss= {}\n",
    "\n",
    "    for model_name, ode_model in models.items():\n",
    "        model_loss[model_name] = 0\n",
    "\n",
    "        ode_model.eval()\n",
    "        with torch.no_grad():\n",
    "            for batch in tqdm(test_loader, desc=f\"Testing {model_name} model\", leave=True):\n",
    "                traj: torch.Tensor = batch[0].to(device)\n",
    "                durations: torch.Tensor = batch[1].to(device)\n",
    "\n",
    "                traj_len = traj.shape[1]\n",
    "                t_span = torch.arange(0, traj_len).to(device)\n",
    "                mask = get_trajectory_mask(durations, traj)\n",
    "\n",
    "                t_eval, traj_predict = ode_model(traj[:, 0, :], t_span)\n",
    "                # move batch axis in front\n",
    "                traj_predict = traj_predict.movedim(1, 0)\n",
    "\n",
    "                # average loss among all real phase vectors\n",
    "                loss = F.mse_loss(\n",
    "                    traj.flatten(end_dim=-2),\n",
    "                    (traj_predict * mask).flatten(end_dim=-2),\n",
    "                    reduction=\"mean\"\n",
    "                ) * (traj.numel() / durations.sum())\n",
    "\n",
    "                model_loss[model_name] += loss.item()\n",
    "\n",
    "    print(model_loss)\n",
    "\n",
    "    best_model_indx = np.array(list(model_loss.values())).argmin()\n",
    "    best_model_name = list(model_loss.keys())[best_model_indx]\n",
    "\n",
    "    print(f\"Best model for true {activity} is {best_model_name} model.\")"
   ]
  },
  {
   "cell_type": "code",
   "execution_count": null,
   "metadata": {},
   "outputs": [],
   "source": []
  }
 ],
 "metadata": {
  "kernelspec": {
   "display_name": "src-zMib2lzO-py3.12",
   "language": "python",
   "name": "python3"
  },
  "language_info": {
   "codemirror_mode": {
    "name": "ipython",
    "version": 3
   },
   "file_extension": ".py",
   "mimetype": "text/x-python",
   "name": "python",
   "nbconvert_exporter": "python",
   "pygments_lexer": "ipython3",
   "version": "3.12.3"
  }
 },
 "nbformat": 4,
 "nbformat_minor": 2
}
