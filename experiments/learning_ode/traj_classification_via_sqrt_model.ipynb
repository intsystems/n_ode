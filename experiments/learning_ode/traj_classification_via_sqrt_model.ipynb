{
 "cells": [
  {
   "cell_type": "markdown",
   "metadata": {},
   "source": [
    "Предсказываю тестовые траектории для каждой активности по min KL между ML-estimation обученных на многих траекториях моделями активностей и вновь натренированной по тестовой траектории модели"
   ]
  },
  {
   "cell_type": "code",
   "execution_count": 1,
   "metadata": {},
   "outputs": [],
   "source": [
    "import sys\n",
    "from pathlib import Path\n",
    "import yaml\n",
    "from tqdm.notebook import tqdm\n",
    "from datetime import datetime\n",
    "\n",
    "import numpy as np\n",
    "from matplotlib import pyplot as plt\n",
    "import torch\n",
    "from torch import nn\n",
    "from torch.nn import functional as F\n",
    "from torchdyn.core import NeuralODE\n",
    "from torch.utils.data import Dataset, DataLoader\n",
    "from torch.utils.tensorboard import SummaryWriter\n",
    "\n",
    "from field_model import *\n",
    "from optimizer import get_optimizer\n",
    "from model_distances import *\n",
    "\n",
    "import warnings\n",
    "warnings.simplefilter(\"ignore\", FutureWarning)"
   ]
  },
  {
   "cell_type": "code",
   "execution_count": 2,
   "metadata": {},
   "outputs": [],
   "source": [
    "# load config files for data and pipeline\n",
    "with open(\"config.yaml\", \"r\") as f1:\n",
    "    config = yaml.full_load(f1)\n",
    "\n",
    "with open(\"../../data/dataset_params.yaml\") as f2:\n",
    "    data_params = yaml.full_load(f2)\n",
    "\n",
    "device = torch.device(config[\"device\"])\n",
    "\n",
    "# dir with trajectories Datasets\n",
    "traj_dir = Path(\"trajectories/\")\n",
    "if not traj_dir.exists():\n",
    "    raise FileNotFoundError(\"No Dataset created for given activity.\")\n",
    "\n",
    "# ode models\n",
    "models_dir = Path(\"models/\")"
   ]
  },
  {
   "cell_type": "code",
   "execution_count": 3,
   "metadata": {},
   "outputs": [
    {
     "name": "stdout",
     "output_type": "stream",
     "text": [
      "Your vector field callable (nn.Module) should have both time `t` and state `x` as arguments, we've wrapped it for you.\n",
      "Your vector field callable (nn.Module) should have both time `t` and state `x` as arguments, we've wrapped it for you.\n",
      "Your vector field callable (nn.Module) should have both time `t` and state `x` as arguments, we've wrapped it for you.\n"
     ]
    }
   ],
   "source": [
    "# compute mean and diag log std of the ML estimators\n",
    "models = {}\n",
    "for model_file in models_dir.glob(\"*_sqrt*\"):\n",
    "    activity = model_file.stem\n",
    "\n",
    "    vector_field = eval(config[\"model_cls\"])(config[\"trajectory_dim\"], **config[\"model_params\"])\n",
    "    ode_model = NeuralODE(vector_field, solver='rk4').to(device)\n",
    "    ode_model.load_state_dict(\n",
    "        torch.load(model_file)\n",
    "    )\n",
    "\n",
    "    models[activity] = ode_model"
   ]
  },
  {
   "cell_type": "code",
   "execution_count": 11,
   "metadata": {},
   "outputs": [],
   "source": [
    "def ml_diag_log_std(ode_model: NeuralODE, train_loader: DataLoader) -> torch.Tensor:\n",
    "    \"\"\" Computes diagonal elements of the Fisher matrix of log(p). It is factorized approximation\n",
    "            of the ML inversed hessian. Returns diagonal log-std.\n",
    "    \"\"\"\n",
    "    ode_model.zero_grad()\n",
    "    ode_model.eval()\n",
    "\n",
    "    num_batches = len(list(iter(train_loader)))\n",
    "\n",
    "    for batch in tqdm(train_loader, desc=\"Accumulating grads\", leave=False):\n",
    "        traj: torch.Tensor = batch[0].to(ode_model.device)\n",
    "        durations: torch.Tensor = batch[1].to(ode_model.device)\n",
    "\n",
    "        traj_len = traj.shape[1]\n",
    "        t_span = torch.arange(0, traj_len).to(ode_model.device)\n",
    "        mask = get_trajectory_mask(durations, traj)\n",
    "\n",
    "        t_eval, traj_predict = ode_model(traj[:, 0, :], t_span)\n",
    "        # move batch axis in front\n",
    "        traj_predict = traj_predict.movedim(1, 0)\n",
    "\n",
    "        #average loss among all real phase vectors\n",
    "        log_lh = F.mse_loss(\n",
    "            traj,\n",
    "            traj_predict * mask,\n",
    "            reduction=\"none\"\n",
    "        )\n",
    "        log_lh = log_lh.sum(dim=-1)\n",
    "        # try weightening\n",
    "        log_lh *= 1 / torch.sqrt(torch.arange(start=1, end=log_lh.shape[1] + 1).to(device))\n",
    "        log_lh = log_lh.sum(dim=-1) / durations\n",
    "        log_lh = log_lh.sum() / num_batches\n",
    "\n",
    "        # accumulate gradients\n",
    "        log_lh.backward()\n",
    "\n",
    "    # compute log std out of log(p) gradients (reverse hessian approximation)\n",
    "    diag_log_std = []\n",
    "    for param in ode_model.parameters():\n",
    "        diag_log_std.append(\n",
    "            - torch.log(param.grad.abs().flatten().detach())\n",
    "        )\n",
    "    diag_log_std = torch.concat(diag_log_std)\n",
    "\n",
    "    # check for errors\n",
    "    if torch.isnan(diag_log_std).sum() > 0:\n",
    "        warnings.warn(\n",
    "            f\"{torch.isnan(diag_log_std).sum()\n",
    "               } NaNs in fisher matrix, change them for zero\",\n",
    "            RuntimeWarning\n",
    "        )\n",
    "        diag_log_std = diag_log_std.nan_to_num()\n",
    "\n",
    "    return diag_log_std"
   ]
  },
  {
   "cell_type": "code",
   "execution_count": 12,
   "metadata": {},
   "outputs": [],
   "source": [
    "def get_trajectory_mask(durations: torch.Tensor, traj: torch.Tensor) -> torch.Tensor:\n",
    "    mask = torch.ones_like(traj).to(traj.device)\n",
    "    for i in range(mask.shape[0]):\n",
    "        # mask out padding vectors in trajectory\n",
    "        mask[i, durations[i]: , ...] = 0.\n",
    "\n",
    "    return mask"
   ]
  },
  {
   "cell_type": "code",
   "execution_count": null,
   "metadata": {},
   "outputs": [],
   "source": [
    "models_ML = {}\n",
    "\n",
    "for model_name, model in models.items():\n",
    "        model_activity = model_name.split(\"_\")[0]\n",
    "        train_loader = DataLoader(\n",
    "                torch.load(traj_dir / f\"{model_activity}_train.pt\"),\n",
    "                config[\"batch_size\"],\n",
    "                shuffle=True\n",
    "            )\n",
    "\n",
    "        mean = vectorize_model_params(model)\n",
    "        log_std = ml_diag_log_std(model, train_loader)\n",
    "\n",
    "        models_ML[model_name] = (mean, log_std)"
   ]
  },
  {
   "cell_type": "code",
   "execution_count": 20,
   "metadata": {},
   "outputs": [
    {
     "data": {
      "image/png": "[encoded data removed]",
      "text/plain": [
       "<Figure size 640x480 with 1 Axes>"
      ]
     },
     "metadata": {},
     "output_type": "display_data"
    }
   ],
   "source": [
    "for model_name, ml_estimator in models_ML.items():\n",
    "    log_std = ml_estimator[1].cpu().numpy()\n",
    "    plt.hist(log_std, bins=20, label=model_name, alpha=0.5)\n",
    "    plt.legend()"
   ]
  },
  {
   "cell_type": "code",
   "execution_count": 27,
   "metadata": {},
   "outputs": [
    {
     "name": "stdout",
     "output_type": "stream",
     "text": [
      "Classifying jog label\n",
      "Your vector field callable (nn.Module) should have both time `t` and state `x` as arguments, we've wrapped it for you.\n"
     ]
    },
    {
     "name": "stderr",
     "output_type": "stream",
     "text": [
      "Epoch:   0%|          | 0/7 [00:00<?, ?it/s]"
     ]
    },
    {
     "name": "stderr",
     "output_type": "stream",
     "text": [
      "Epoch: 100%|██████████| 7/7 [00:16<00:00,  2.37s/it]\n",
      "                                                                   \r"
     ]
    },
    {
     "name": "stdout",
     "output_type": "stream",
     "text": [
      "True label is jog\n",
      "Distances\n",
      " {'jog_sqrt': 110745792.0, 'wlk_sqrt': 42693270962176.0, 'std_sqrt': 10498068480.0}\n",
      "Minimum is  jog_sqrt\n",
      "\n",
      "\n",
      "Classifying wlk label\n",
      "Your vector field callable (nn.Module) should have both time `t` and state `x` as arguments, we've wrapped it for you.\n"
     ]
    },
    {
     "name": "stderr",
     "output_type": "stream",
     "text": [
      "Epoch: 100%|██████████| 7/7 [00:32<00:00,  4.69s/it]\n",
      "                                                                   \r"
     ]
    },
    {
     "name": "stdout",
     "output_type": "stream",
     "text": [
      "True label is wlk\n",
      "Distances\n",
      " {'jog_sqrt': 103069872.0, 'wlk_sqrt': 76076613107712.0, 'std_sqrt': 16300920832.0}\n",
      "Minimum is  jog_sqrt\n",
      "\n",
      "\n",
      "Classifying std label\n",
      "Your vector field callable (nn.Module) should have both time `t` and state `x` as arguments, we've wrapped it for you.\n"
     ]
    },
    {
     "name": "stderr",
     "output_type": "stream",
     "text": [
      "Epoch: 100%|██████████| 7/7 [00:41<00:00,  5.86s/it]\n",
      "                                                                   "
     ]
    },
    {
     "name": "stdout",
     "output_type": "stream",
     "text": [
      "True label is std\n",
      "Distances\n",
      " {'jog_sqrt': 87789215744.0, 'wlk_sqrt': 5.918825281644134e+16, 'std_sqrt': 25542185189376.0}\n",
      "Minimum is  jog_sqrt\n",
      "\n",
      "\n"
     ]
    },
    {
     "name": "stderr",
     "output_type": "stream",
     "text": [
      "\r"
     ]
    },
    {
     "data": {
      "image/png": "[encoded data removed]",
      "text/plain": [
       "<Figure size 640x480 with 1 Axes>"
      ]
     },
     "metadata": {},
     "output_type": "display_data"
    }
   ],
   "source": [
    "for activity in [\"jog\", \"wlk\", \"std\"]:\n",
    "    print(f\"Classifying {activity} label\")\n",
    "\n",
    "    test_loader = DataLoader(\n",
    "        torch.load(traj_dir / f\"{activity}_test.pt\"),\n",
    "        config[\"batch_size\"],\n",
    "        shuffle=False\n",
    "    )\n",
    "\n",
    "    # create model\n",
    "    vector_field = eval(config[\"model_cls\"])(config[\"trajectory_dim\"], **config[\"model_params\"])\n",
    "    ode_model = NeuralODE(vector_field, solver='rk4').to(device)\n",
    "\n",
    "    # get optimizer\n",
    "    optim = get_optimizer(ode_model)\n",
    "\n",
    "    # metrics writer\n",
    "    writer = SummaryWriter(f\"runs/{activity}_test/{datetime.now()}\")\n",
    "\n",
    "    # train loop\n",
    "    global_step = 0\n",
    "    for epoch in tqdm(range(config[\"num_epochs\"]), desc=\"Epoch\"):\n",
    "        ode_model.train()\n",
    "        for batch in tqdm(test_loader, desc=\"Train\", leave=False):\n",
    "            optim.zero_grad()\n",
    "\n",
    "            traj: torch.Tensor = batch[0].to(device)\n",
    "            durations: torch.Tensor = batch[1].to(device)\n",
    "\n",
    "            traj_len = traj.shape[1]\n",
    "            t_span = torch.arange(0, traj_len).to(device)\n",
    "            mask = get_trajectory_mask(durations, traj)\n",
    "\n",
    "            t_eval, traj_predict = ode_model(traj[:, 0, :], t_span)\n",
    "            # move batch axis in front\n",
    "            traj_predict = traj_predict.movedim(1, 0)\n",
    "\n",
    "            # average loss among all real phase vectors\n",
    "            log_lh = F.mse_loss(\n",
    "                traj,\n",
    "                traj_predict * mask,\n",
    "                reduction=\"none\"\n",
    "            )\n",
    "            log_lh = log_lh.sum(dim=-1)\n",
    "            # try weightening\n",
    "            log_lh *= 1 / torch.sqrt(torch.arange(start=1, end=log_lh.shape[1] + 1).to(device))\n",
    "            log_lh = log_lh.sum(dim=-1) / durations\n",
    "            log_lh = log_lh.sum()\n",
    "\n",
    "            writer.add_scalar(\"Train/MSE\", log_lh.item(), global_step)\n",
    "            global_step += 1\n",
    "\n",
    "    writer.close()\n",
    "\n",
    "    # classifying\n",
    "    mean_test = vectorize_model_params(ode_model)\n",
    "    # log_std_test = torch.zeros_like(mean_test)\n",
    "    log_std_test = ml_diag_log_std(ode_model, test_loader)\n",
    "\n",
    "    plt.hist(log_std_test.cpu().numpy(), bins=20, label=f\"{activity}_new\", alpha=0.5)\n",
    "    plt.legend()\n",
    "\n",
    "    distances = {}\n",
    "\n",
    "    for model_name, ml_est in models_ML.items():\n",
    "        model_activity = model_name.split(\"_\")[0]\n",
    "\n",
    "        mean, log_std = ml_est\n",
    "        # log_std = torch.zeros_like(mean)\n",
    "\n",
    "        distances[model_name] = get_normal_KL(\n",
    "            mean_test, log_std_test,\n",
    "            mean, log_std\n",
    "        ).cpu().item()\n",
    "\n",
    "    print(f\"True label is {activity}\")\n",
    "    print(\"Distances\\n\", distances)\n",
    "    print(\"Minimum is \", min(distances, key=distances.get))\n",
    "    print(\"\\n\")"
   ]
  },
  {
   "cell_type": "code",
   "execution_count": 28,
   "metadata": {},
   "outputs": [
    {
     "name": "stdout",
     "output_type": "stream",
     "text": [
      "Classifying jog label\n",
      "Your vector field callable (nn.Module) should have both time `t` and state `x` as arguments, we've wrapped it for you.\n"
     ]
    },
    {
     "name": "stderr",
     "output_type": "stream",
     "text": [
      "Epoch: 100%|██████████| 7/7 [00:16<00:00,  2.41s/it]\n"
     ]
    },
    {
     "name": "stdout",
     "output_type": "stream",
     "text": [
      "True label is jog\n",
      "Distances\n",
      " {'jog_sqrt': 106.02567291259766, 'wlk_sqrt': 107.20480346679688, 'std_sqrt': 106.80850219726562}\n",
      "Minimum is  jog_sqrt\n",
      "\n",
      "\n",
      "Classifying wlk label\n",
      "Your vector field callable (nn.Module) should have both time `t` and state `x` as arguments, we've wrapped it for you.\n"
     ]
    },
    {
     "name": "stderr",
     "output_type": "stream",
     "text": [
      "Epoch: 100%|██████████| 7/7 [00:41<00:00,  5.90s/it]\n"
     ]
    },
    {
     "name": "stdout",
     "output_type": "stream",
     "text": [
      "True label is wlk\n",
      "Distances\n",
      " {'jog_sqrt': 108.12274169921875, 'wlk_sqrt': 104.03038787841797, 'std_sqrt': 105.38868713378906}\n",
      "Minimum is  wlk_sqrt\n",
      "\n",
      "\n",
      "Classifying std label\n",
      "Your vector field callable (nn.Module) should have both time `t` and state `x` as arguments, we've wrapped it for you.\n"
     ]
    },
    {
     "name": "stderr",
     "output_type": "stream",
     "text": [
      "Epoch: 100%|██████████| 7/7 [00:50<00:00,  7.17s/it]"
     ]
    },
    {
     "name": "stdout",
     "output_type": "stream",
     "text": [
      "True label is std\n",
      "Distances\n",
      " {'jog_sqrt': 106.8107681274414, 'wlk_sqrt': 106.44168853759766, 'std_sqrt': 106.21768188476562}\n",
      "Minimum is  std_sqrt\n",
      "\n",
      "\n"
     ]
    },
    {
     "name": "stderr",
     "output_type": "stream",
     "text": [
      "\n"
     ]
    }
   ],
   "source": [
    "for activity in [\"jog\", \"wlk\", \"std\"]:\n",
    "    print(f\"Classifying {activity} label\")\n",
    "\n",
    "    test_loader = DataLoader(\n",
    "        torch.load(traj_dir / f\"{activity}_test.pt\"),\n",
    "        config[\"batch_size\"],\n",
    "        shuffle=False\n",
    "    )\n",
    "\n",
    "    # create model\n",
    "    vector_field = eval(config[\"model_cls\"])(config[\"trajectory_dim\"], **config[\"model_params\"])\n",
    "    ode_model = NeuralODE(vector_field, solver='rk4').to(device)\n",
    "\n",
    "    # get optimizer\n",
    "    optim = get_optimizer(ode_model)\n",
    "\n",
    "    # metrics writer\n",
    "    writer = SummaryWriter(f\"runs/{activity}_test/{datetime.now()}\")\n",
    "\n",
    "    # train loop\n",
    "    global_step = 0\n",
    "    for epoch in tqdm(range(config[\"num_epochs\"]), desc=\"Epoch\"):\n",
    "        ode_model.train()\n",
    "        for batch in tqdm(test_loader, desc=\"Train\", leave=False):\n",
    "            optim.zero_grad()\n",
    "\n",
    "            traj: torch.Tensor = batch[0].to(device)\n",
    "            durations: torch.Tensor = batch[1].to(device)\n",
    "\n",
    "            traj_len = traj.shape[1]\n",
    "            t_span = torch.arange(0, traj_len).to(device)\n",
    "            mask = get_trajectory_mask(durations, traj)\n",
    "\n",
    "            t_eval, traj_predict = ode_model(traj[:, 0, :], t_span)\n",
    "            # move batch axis in front\n",
    "            traj_predict = traj_predict.movedim(1, 0)\n",
    "\n",
    "            # average loss among all real phase vectors\n",
    "            log_lh = F.mse_loss(\n",
    "                traj,\n",
    "                traj_predict * mask,\n",
    "                reduction=\"none\"\n",
    "            )\n",
    "            log_lh = log_lh.sum(dim=-1)\n",
    "            # try weightening\n",
    "            log_lh *= 1 / torch.sqrt(torch.arange(start=1, end=log_lh.shape[1] + 1).to(device))\n",
    "            log_lh = log_lh.sum(dim=-1) / durations\n",
    "            log_lh = log_lh.sum()\n",
    "\n",
    "            writer.add_scalar(\"Train/MSE\", log_lh.item(), global_step)\n",
    "            global_step += 1\n",
    "\n",
    "    writer.close()\n",
    "\n",
    "    # classifying\n",
    "    mean_test = vectorize_model_params(ode_model)\n",
    "    log_std_test = torch.zeros_like(mean_test)\n",
    "\n",
    "    distances = {}\n",
    "\n",
    "    for model_name, ml_est in models_ML.items():\n",
    "        model_activity = model_name.split(\"_\")[0]\n",
    "\n",
    "        mean = ml_est[0]\n",
    "        log_std = torch.zeros_like(mean)\n",
    "\n",
    "        distances[model_name] = get_normal_KL(\n",
    "            mean_test, log_std_test,\n",
    "            mean, log_std\n",
    "        ).cpu().item()\n",
    "\n",
    "    print(f\"True label is {activity}\")\n",
    "    print(\"Distances\\n\", distances)\n",
    "    print(\"Minimum is \", min(distances, key=distances.get))\n",
    "    print(\"\\n\")"
   ]
  }
 ],
 "metadata": {
  "kernelspec": {
   "display_name": "src-zMib2lzO-py3.12",
   "language": "python",
   "name": "python3"
  },
  "language_info": {
   "codemirror_mode": {
    "name": "ipython",
    "version": 3
   },
   "file_extension": ".py",
   "mimetype": "text/x-python",
   "name": "python",
   "nbconvert_exporter": "python",
   "pygments_lexer": "ipython3",
   "version": "3.12.3"
  }
 },
 "nbformat": 4,
 "nbformat_minor": 2
}
